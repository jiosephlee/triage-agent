{
 "cells": [
  {
   "cell_type": "markdown",
   "metadata": {},
   "source": [
    "We'll create several patient cases. "
   ]
  },
  {
   "cell_type": "code",
   "execution_count": 1,
   "metadata": {},
   "outputs": [],
   "source": [
    "import pandas as pd\n",
    "import sys\n",
    "import os\n",
    "sys.path.append(os.path.abspath('../..'))\n",
    "import utils.prompts as prompts"
   ]
  },
  {
   "cell_type": "code",
   "execution_count": 4,
   "metadata": {},
   "outputs": [],
   "source": [
    "\n",
    "# Read the test.csv file\n",
    "test_df = pd.read_csv('train.csv')\n",
    "dataset = 'KTAS-triage'\n",
    "# Create a list to store patient cases and acuity levels\n",
    "patient_cases = []\n",
    "acuity_levels = []\n",
    "\n",
    "# Process each row in the test.csv\n",
    "for _, row in test_df.iterrows():\n",
    "    # Format the row using natural serialization\n",
    "    patient_case = prompts.format_row(row, dataset=dataset, serialization=\"natural\")\n",
    "    \n",
    "    # Store the patient case and acuity level separately\n",
    "    patient_cases.append(patient_case)\n",
    "    acuity_levels.append(row['KTAS_expert'])\n",
    "\n",
    "# Create a DataFrame with patient cases and acuity levels\n",
    "result_df = pd.DataFrame({\n",
    "    'patient_case': patient_cases,\n",
    "    'acuity': acuity_levels\n",
    "})\n",
    "\n",
    "# Save the result to a CSV file\n",
    "result_df.to_csv('patient_cases.csv', index=False)"
   ]
  },
  {
   "cell_type": "code",
   "execution_count": 5,
   "metadata": {},
   "outputs": [
    {
     "name": "stderr",
     "output_type": "stream",
     "text": [
      "100%|██████████| 20/20 [00:00<00:00, 1078.81it/s]"
     ]
    },
    {
     "name": "stdout",
     "output_type": "stream",
     "text": [
      "Created 20 sets of patients with 5 having the same acuity and 1 having a lower acuity.\n",
      "Data saved to 'multi_patient_cases.jsonl'\n",
      "\n",
      "Sample set:\n",
      "Correct index: 4\n",
      "Patient cases:\n",
      "\n",
      "Patient 0:\n",
      "A 68-year-old woman arrives at the emergency department with a chief complaint of 'vomiting'. She has temperature of 37.3°C, heart rate of 66.0 bpm, respiratory rate of 20.0 breaths/min, systolic bloo...\n",
      "\n",
      "Patient 1:\n",
      "A 35-year-old woman arrives at the emergency department via private vehicle with a chief complaint of 'epigastric pain'. She has temperature of 36.7°C, heart rate of 74.0 bpm, respiratory rate of 20.0...\n",
      "\n",
      "Patient 2:\n",
      "A 26-year-old woman who sustained an injury arrives at the emergency department via private vehicle with a chief complaint of 'laceration, chin'. She has temperature of 36.0°C, heart rate of 114.0 bpm...\n",
      "\n",
      "Patient 3:\n",
      "A 43-year-old man arrives at the emergency department with a chief complaint of 'headache'. He has temperature of 36.9°C, heart rate of 108.0 bpm, respiratory rate of 20.0 breaths/min, systolic blood ...\n",
      "\n",
      "Patient 4:\n",
      "A 25-year-old woman who sustained an injury arrives at the emergency department with a chief complaint of 'sexual violence'. She has temperature of 37.0°C, heart rate of 80.0 bpm, respiratory rate of ...\n",
      "\n",
      "Patient 5:\n",
      "A 16-year-old man who sustained an injury arrives at the emergency department with a chief complaint of 'forehead laceration'. He has temperature of 37.7°C, heart rate of 81.0 bpm, respiratory rate of...\n"
     ]
    },
    {
     "name": "stderr",
     "output_type": "stream",
     "text": [
      "\n"
     ]
    }
   ],
   "source": [
    "import random\n",
    "import json\n",
    "import numpy as np\n",
    "from tqdm import tqdm\n",
    "import sys\n",
    "sys.path.append('../..')\n",
    "from utils.utils import query_llm\n",
    "\n",
    "# Function to create a set of 6 patients with 5 having the same acuity and 1 having a different acuity\n",
    "def create_patient_set(df, same_acuity, diff_acuity):\n",
    "    # Get 5 patients with the same acuity\n",
    "    same_acuity_patients = df[df['acuity'] == same_acuity].sample(5)\n",
    "    \n",
    "    # Get 1 patient with a different acuity\n",
    "    diff_acuity_patient = df[df['acuity'] == diff_acuity].sample(1)\n",
    "    \n",
    "    # Combine the patients\n",
    "    patient_set = pd.concat([same_acuity_patients, diff_acuity_patient])\n",
    "    \n",
    "    # Shuffle the patients\n",
    "    patient_set = patient_set.sample(frac=1).reset_index(drop=True)\n",
    "    \n",
    "    # Find the index of the patient with different acuity\n",
    "    diff_index = patient_set[patient_set['acuity'] == diff_acuity].index[0]\n",
    "    \n",
    "    return patient_set, diff_index\n",
    "\n",
    "# Create multiple sets of patients\n",
    "num_sets = 20\n",
    "patient_sets = []\n",
    "\n",
    "# Define possible acuity pairs (same_acuity, diff_acuity)\n",
    "# We want diff_acuity to be 1 lower than same_acuity\n",
    "acuity_pairs = [(2, 1), (3, 2), (4, 3), (5, 4)]\n",
    "\n",
    "# Open a file to write JSONL\n",
    "with open('multi_patient_cases.jsonl', 'w') as f:\n",
    "    for _ in tqdm(range(num_sets)):\n",
    "        # Randomly select an acuity pair\n",
    "        same_acuity, diff_acuity = random.choice(acuity_pairs)\n",
    "        \n",
    "        # Create a patient set\n",
    "        patient_set, diff_index = create_patient_set(result_df, same_acuity, diff_acuity)\n",
    "        \n",
    "        # Create a record for this set\n",
    "        record = {\n",
    "            'wuestion': 'Which patient is the most acutely ill and should be seen first?',\n",
    "            'patient_cases': patient_set['patient_case'].tolist(),\n",
    "            'correct_index': int(diff_index)\n",
    "        }\n",
    "        \n",
    "        # Write the record as a JSON line\n",
    "        f.write(json.dumps(record) + '\\n')\n",
    "\n",
    "print(f\"Created {num_sets} sets of patients with 5 having the same acuity and 1 having a lower acuity.\")\n",
    "print(f\"Data saved to 'multi_patient_cases.jsonl'\")\n",
    "\n",
    "# Display a sample set by reading back the first record\n",
    "with open('multi_patient_cases.jsonl', 'r') as f:\n",
    "    sample = json.loads(f.readline())\n",
    "    \n",
    "print(f\"\\nSample set:\")\n",
    "print(f\"Correct index: {sample['correct_index']}\")\n",
    "print(\"Patient cases:\")\n",
    "for i, case in enumerate(sample['patient_cases']):\n",
    "    print(f\"\\nPatient {i}:\")\n",
    "    print(case[:200] + \"...\" if len(case) > 200 else case)\n",
    "\n"
   ]
  }
 ],
 "metadata": {
  "kernelspec": {
   "display_name": "triage",
   "language": "python",
   "name": "python3"
  },
  "language_info": {
   "codemirror_mode": {
    "name": "ipython",
    "version": 3
   },
   "file_extension": ".py",
   "mimetype": "text/x-python",
   "name": "python",
   "nbconvert_exporter": "python",
   "pygments_lexer": "ipython3",
   "version": "3.11.11"
  }
 },
 "nbformat": 4,
 "nbformat_minor": 2
}
