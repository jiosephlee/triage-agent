{
 "cells": [
  {
   "cell_type": "code",
   "execution_count": null,
   "metadata": {},
   "outputs": [],
   "source": [
    "import json\n",
    "import pandas as pd\n",
    "import os\n",
    "\n",
    "# Path to the JSONL file\n",
    "jsonl_file_path = 'multi_patient_cases.jsonl'\n",
    "\n",
    "# List to store the processed data\n",
    "processed_data = []\n",
    "\n",
    "# Read the JSONL file\n",
    "with open(jsonl_file_path, 'r') as file:\n",
    "    for line in file:\n",
    "        # Parse the JSON object\n",
    "        data = json.loads(line)\n",
    "        \n",
    "        # Get the question and patient cases\n",
    "        question = data.get('question', '')\n",
    "        patient_cases = data.get('patient_cases', [])\n",
    "        correct_index = data.get('correct_index', None)\n",
    "        \n",
    "        # Format the patient cases into a single string\n",
    "        formatted_case = \"\"\n",
    "        \n",
    "        for i, case in enumerate(patient_cases):\n",
    "            formatted_case += f\"Patient {i}:\\n{case}\\n\\n\"\n",
    "        \n",
    "        # Add to our processed data\n",
    "        processed_data.append({\n",
    "            'patient_case': formatted_case,\n",
    "            'patient_index': correct_index\n",
    "        })\n",
    "\n",
    "# Create a DataFrame\n",
    "df = pd.DataFrame(processed_data)\n",
    "\n",
    "# Save to CSV\n",
    "output_csv_path = 'formatted_patient_cases.csv'\n",
    "df.to_csv(output_csv_path, index=False)\n",
    "\n",
    "print(f\"Processed {len(processed_data)} cases and saved to {output_csv_path}\")\n",
    "print(f\"Sample of the first formatted case:\\n{processed_data[0]['patient_case'][:500]}...\")\n"
   ]
  }
 ],
 "metadata": {
  "kernelspec": {
   "display_name": "triage",
   "language": "python",
   "name": "python3"
  },
  "language_info": {
   "name": "python",
   "version": "3.11.11"
  }
 },
 "nbformat": 4,
 "nbformat_minor": 2
}
